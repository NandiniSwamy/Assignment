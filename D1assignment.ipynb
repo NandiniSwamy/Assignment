{
  "nbformat": 4,
  "nbformat_minor": 0,
  "metadata": {
    "colab": {
      "name": "D1assignment.ipynb",
      "provenance": []
    },
    "kernelspec": {
      "name": "python3",
      "display_name": "Python 3"
    },
    "language_info": {
      "name": "python"
    }
  },
  "cells": [
    {
      "cell_type": "code",
      "metadata": {
        "colab": {
          "base_uri": "https://localhost:8080/"
        },
        "id": "L5gtBB3PdcIV",
        "outputId": "8ab6c863-7721-4db6-f480-b1e00079bf84"
      },
      "source": [
        "x=int(input('Enter first value'))\n",
        "y=int(input('Enter second value'))\n",
        "print(x**y)"
      ],
      "execution_count": 2,
      "outputs": [
        {
          "output_type": "stream",
          "text": [
            "Enter first value10\n",
            "Enter second value20\n",
            "100000000000000000000\n"
          ],
          "name": "stdout"
        }
      ]
    },
    {
      "cell_type": "code",
      "metadata": {
        "colab": {
          "base_uri": "https://localhost:8080/"
        },
        "id": "xgFkUCwPdz1D",
        "outputId": "bf362073-fcc1-4d7d-9743-da3bc4b0985e"
      },
      "source": [
        "x=int(input('Enter first value'))\n",
        "y=int(input('Enter second value'))\n",
        "print(x**y)"
      ],
      "execution_count": 3,
      "outputs": [
        {
          "output_type": "stream",
          "text": [
            "Enter first value2\n",
            "Enter second value3\n",
            "8\n"
          ],
          "name": "stdout"
        }
      ]
    },
    {
      "cell_type": "code",
      "metadata": {
        "id": "Mg92GeiQerhH"
      },
      "source": [
        ""
      ],
      "execution_count": null,
      "outputs": []
    }
  ]
}